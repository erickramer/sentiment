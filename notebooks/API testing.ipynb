{
 "cells": [
  {
   "cell_type": "code",
   "execution_count": 37,
   "metadata": {
    "collapsed": false
   },
   "outputs": [
    {
     "name": "stdout",
     "output_type": "stream",
     "text": [
      "/Users/eric\n"
     ]
    }
   ],
   "source": [
    "import os\n",
    "print os.getcwd()"
   ]
  },
  {
   "cell_type": "code",
   "execution_count": 38,
   "metadata": {
    "collapsed": true
   },
   "outputs": [],
   "source": [
    "os.chdir(\"..\")\n",
    "import config"
   ]
  },
  {
   "cell_type": "code",
   "execution_count": 39,
   "metadata": {
    "collapsed": true
   },
   "outputs": [],
   "source": [
    "import twitter\n",
    "from twitter.parse_tweet import Emoticons\n",
    "import numpy as np\n",
    "import time\n",
    "import re"
   ]
  },
  {
   "cell_type": "code",
   "execution_count": 1,
   "metadata": {
    "collapsed": false
   },
   "outputs": [
    {
     "ename": "NameError",
     "evalue": "name 'twitter' is not defined",
     "output_type": "error",
     "traceback": [
      "\u001b[0;31m---------------------------------------------------------------------------\u001b[0m",
      "\u001b[0;31mNameError\u001b[0m                                 Traceback (most recent call last)",
      "\u001b[0;32m<ipython-input-1-4036b82b5760>\u001b[0m in \u001b[0;36m<module>\u001b[0;34m()\u001b[0m\n\u001b[0;32m----> 1\u001b[0;31m api = twitter.Api(consumer_key=config.consumer_key,\n\u001b[0m\u001b[1;32m      2\u001b[0m                   \u001b[0mconsumer_secret\u001b[0m\u001b[0;34m=\u001b[0m\u001b[0mconfig\u001b[0m\u001b[0;34m.\u001b[0m\u001b[0mconsumer_secret\u001b[0m\u001b[0;34m,\u001b[0m\u001b[0;34m\u001b[0m\u001b[0m\n\u001b[1;32m      3\u001b[0m                   \u001b[0maccess_token_key\u001b[0m\u001b[0;34m=\u001b[0m\u001b[0mconfig\u001b[0m\u001b[0;34m.\u001b[0m\u001b[0maccess_token\u001b[0m\u001b[0;34m,\u001b[0m\u001b[0;34m\u001b[0m\u001b[0m\n\u001b[1;32m      4\u001b[0m                   access_token_secret=config.access_token_secret, timeout=60)\n",
      "\u001b[0;31mNameError\u001b[0m: name 'twitter' is not defined"
     ]
    }
   ],
   "source": [
    "api = twitter.Api(consumer_key=config.consumer_key,\n",
    "                  consumer_secret=config.consumer_secret,\n",
    "                  access_token_key=config.access_token,\n",
    "                  access_token_secret=config.access_token_secret, timeout=60)"
   ]
  },
  {
   "cell_type": "code",
   "execution_count": 41,
   "metadata": {
    "collapsed": false
   },
   "outputs": [],
   "source": [
    "positive_stream = api.GetStreamFilter(track=Emoticons.POSITIVE)\n",
    "negative_stream = api.GetStreamFilter(track=Emoticons.NEGATIVE)"
   ]
  },
  {
   "cell_type": "code",
   "execution_count": 42,
   "metadata": {
    "collapsed": false
   },
   "outputs": [],
   "source": [
    "tweets = []\n",
    "for i in range(100):\n",
    "    tweets.append(positive_stream.next())\n",
    "    tweets.append(negative_stream.next())"
   ]
  },
  {
   "cell_type": "code",
   "execution_count": 43,
   "metadata": {
    "collapsed": false
   },
   "outputs": [
    {
     "name": "stdout",
     "output_type": "stream",
     "text": [
      "Problem with 117\n",
      "Problem with 121\n",
      "Problem with 135\n",
      "Problem with 141\n",
      "Problem with 182\n"
     ]
    }
   ],
   "source": [
    "tweet_texts = []\n",
    "for i, tweet in enumerate(tweets):\n",
    "    try:\n",
    "        tweet_texts.append(tweet['text'])\n",
    "    except KeyError:\n",
    "        print \"Problem with %i\" % i\n",
    "text = ''.join(tweet_texts)"
   ]
  },
  {
   "cell_type": "code",
   "execution_count": 44,
   "metadata": {
    "collapsed": false
   },
   "outputs": [],
   "source": [
    "class TweetEncoder(object):\n",
    "    \n",
    "    def __init__(self, text):\n",
    "        self.chars = [''] + list(set(text))\n",
    "        self.nchars = len(self.chars)\n",
    "        self._c2i = {c:i for i,c in enumerate(self.chars)}\n",
    "\n",
    "    def __call__(self, obj):\n",
    "        if isinstance(obj, np.ndarray):\n",
    "            if len(obj.shape) == 3:\n",
    "                return self._decode_tweets(obj)\n",
    "            elif len(obj.shape) == 2:\n",
    "                return self._decode_tweet(obj)\n",
    "        elif isinstance(obj, list):\n",
    "            return self._encode_tweets(obj)\n",
    "        elif isinstance(obj, unicode):\n",
    "            return self._encode_tweet(obj)\n",
    "        elif isinstance(obj, str):\n",
    "            return self._encode_tweet(obj)\n",
    "        else:\n",
    "            raise ValueError\n",
    "    \n",
    "    def _encode_tweet(self, tweet):\n",
    "        x = np.zeros((140, self.nchars))\n",
    "        offset = 140 - len(tweet)\n",
    "        for i, c in enumerate(tweet):\n",
    "            j = self.c2i(c)\n",
    "            x[i+offset, j] = 1\n",
    "        return x\n",
    "    \n",
    "    def _encode_tweets(self, tweets):\n",
    "        xs = [self._encode_tweet(t) for t in tweets]\n",
    "        return np.stack(xs)\n",
    "    \n",
    "    def _decode_tweet(self, x):\n",
    "        \n",
    "        def choose_char(p):\n",
    "            if np.sum(p) > 1e-6:\n",
    "                p /= np.sum(p)\n",
    "                return np.random.choice(self.chars, p=p)\n",
    "            else:\n",
    "                return ''\n",
    "            \n",
    "        chars = [choose_char(x[i,:]) for i in range(x.shape[0])]\n",
    "        return ''.join(chars)\n",
    "        \n",
    "    def _decode_tweets(self, x):\n",
    "        return [self._decode_tweet(x[i, :, :]) for i in range(x.shape[0])]\n",
    "    \n",
    "    def c2i(self, c):\n",
    "        try:\n",
    "            return self._c2i[c]\n",
    "        except KeyError:\n",
    "            return 0\n",
    "    "
   ]
  },
  {
   "cell_type": "code",
   "execution_count": 45,
   "metadata": {
    "collapsed": false
   },
   "outputs": [],
   "source": [
    "encoder = TweetEncoder(text)\n",
    "\n",
    "def data_generator(pos, neg, encoder, batch_size=100):\n",
    "    \n",
    "    while True:\n",
    "        xs = []\n",
    "        ys = []\n",
    "        \n",
    "        for _ in range(int(batch_size/2)):\n",
    "            \n",
    "            while True:\n",
    "                try:\n",
    "                    t = strip_emoticon(pos.next()['text'])\n",
    "                    x = encoder(t)\n",
    "                    xs.append(x)\n",
    "                    ys.append(0.1)\n",
    "                    break\n",
    "                except KeyError:\n",
    "                    print \"Hit an error in positive data gen, pausing..\"\n",
    "                    time.sleep(1) # if we hit a limit with the twitter API\n",
    "            \n",
    "            while True:\n",
    "                try:\n",
    "                    t = strip_emoticon(neg.next()['text'])\n",
    "                    x = encoder(t)\n",
    "                    xs.append(x)\n",
    "                    ys.append(0)\n",
    "                    break\n",
    "                except KeyError:\n",
    "                    print \"Hit an error in negative data gen, pausing...\"\n",
    "                    time.sleep(0.1)\n",
    "            \n",
    "        yield np.stack(xs), np.array(ys)"
   ]
  },
  {
   "cell_type": "code",
   "execution_count": 46,
   "metadata": {
    "collapsed": true
   },
   "outputs": [],
   "source": [
    "regex = '|'.join(Emoticons.NEGATIVE + Emoticons.POSITIVE)\n",
    "regex = re.sub('\\(', '\\\\\\(', regex)\n",
    "regex = re.sub('\\)', '\\\\\\)', regex)\n",
    "regex = re.sub('\\'', '\\\\\\'', regex)\n",
    "regex = re.sub('\\^', '\\\\\\^', regex)\n",
    "regex = re.sub('\\*', '\\\\\\*', regex)\n",
    "regex = re.sub('\\[', '\\\\\\[', regex)"
   ]
  },
  {
   "cell_type": "code",
   "execution_count": 47,
   "metadata": {
    "collapsed": true
   },
   "outputs": [],
   "source": [
    "def strip_emoticon(text):\n",
    "    return re.sub(regex, \"\", text)"
   ]
  },
  {
   "cell_type": "code",
   "execution_count": 48,
   "metadata": {
    "collapsed": false
   },
   "outputs": [],
   "source": [
    "gen = data_generator(positive_stream, negative_stream, encoder)"
   ]
  },
  {
   "cell_type": "code",
   "execution_count": 49,
   "metadata": {
    "collapsed": false
   },
   "outputs": [],
   "source": [
    "import keras\n",
    "from keras.models import Sequential\n",
    "from keras.layers.recurrent import LSTM\n",
    "from keras.layers.core import Dense, Dropout"
   ]
  },
  {
   "cell_type": "code",
   "execution_count": 50,
   "metadata": {
    "collapsed": true
   },
   "outputs": [],
   "source": [
    "model = Sequential()\n",
    "model.add(LSTM(128, input_shape=(140, encoder.nchars), return_sequences=True))\n",
    "model.add(LSTM(128, input_shape=(140, encoder.nchars), return_sequences=False))\n",
    "model.add(Dense(256, activation=\"relu\"))\n",
    "model.add(Dropout(0.5))\n",
    "model.add(Dense(1, activation=\"sigmoid\"))"
   ]
  },
  {
   "cell_type": "code",
   "execution_count": 51,
   "metadata": {
    "collapsed": true
   },
   "outputs": [],
   "source": [
    "model.compile(loss=\"binary_crossentropy\", optimizer=\"RMSprop\")"
   ]
  },
  {
   "cell_type": "code",
   "execution_count": 52,
   "metadata": {
    "collapsed": false
   },
   "outputs": [
    {
     "name": "stdout",
     "output_type": "stream",
     "text": [
      "Epoch 1/2\n",
      "Hit an error in negative data gen, pausing...\n",
      "Hit an error in negative data gen, pausing...\n",
      "Hit an error in negative data gen, pausing...\n",
      "Hit an error in negative data gen, pausing...\n",
      "Hit an error in negative data gen, pausing...\n",
      "Hit an error in negative data gen, pausing...\n",
      "Hit an error in negative data gen, pausing...\n",
      "Hit an error in negative data gen, pausing...\n",
      "Hit an error in negative data gen, pausing...\n",
      "Hit an error in positive data gen, pausing..\n",
      " 100/1000 [==>...........................] - ETA: 18s - loss: 0.7155Hit an error in negative data gen, pausing...\n",
      "Hit an error in negative data gen, pausing...\n",
      "Hit an error in negative data gen, pausing...\n",
      "Hit an error in positive data gen, pausing..\n",
      " 200/1000 [=====>........................] - ETA: 14s - loss: 0.6804Hit an error in negative data gen, pausing...\n",
      "Hit an error in negative data gen, pausing...\n",
      "Hit an error in negative data gen, pausing...\n",
      "Hit an error in negative data gen, pausing...\n",
      "Hit an error in negative data gen, pausing...\n",
      "Hit an error in negative data gen, pausing...\n",
      " 300/1000 [========>.....................] - ETA: 11s - loss: 0.5452Hit an error in negative data gen, pausing...\n",
      "Hit an error in negative data gen, pausing...\n",
      "Hit an error in negative data gen, pausing...\n",
      "Hit an error in positive data gen, pausing..\n",
      " 400/1000 [===========>..................] - ETA: 9s - loss: 0.4595 Hit an error in positive data gen, pausing..\n",
      " 500/1000 [==============>...............] - ETA: 7s - loss: 0.4077Hit an error in negative data gen, pausing...\n",
      "Hit an error in positive data gen, pausing..\n",
      "Hit an error in negative data gen, pausing...\n",
      " 600/1000 [=================>............] - ETA: 6s - loss: 0.3743Hit an error in negative data gen, pausing...\n",
      "Hit an error in negative data gen, pausing...\n",
      "Hit an error in negative data gen, pausing...\n",
      "Hit an error in negative data gen, pausing...\n"
     ]
    },
    {
     "name": "stderr",
     "output_type": "stream",
     "text": [
      "Exception in thread Thread-5:\n",
      "Traceback (most recent call last):\n",
      "  File \"/System/Library/Frameworks/Python.framework/Versions/2.7/lib/python2.7/threading.py\", line 810, in __bootstrap_inner\n",
      "    self.run()\n",
      "  File \"/System/Library/Frameworks/Python.framework/Versions/2.7/lib/python2.7/threading.py\", line 763, in run\n",
      "    self.__target(*self.__args, **self.__kwargs)\n",
      "  File \"/Users/eric/Projects/sentiment/venv/lib/python2.7/site-packages/keras/engine/training.py\", line 425, in data_generator_task\n",
      "    generator_output = next(generator)\n",
      "  File \"<ipython-input-45-de2b133fde86>\", line 24, in data_generator\n",
      "    t = strip_emoticon(neg.next()['text'])\n",
      "  File \"/Users/eric/Projects/sentiment/venv/lib/python2.7/site-packages/twitter/api.py\", line 4428, in GetStreamFilter\n",
      "    for line in resp.iter_lines():\n",
      "  File \"/Users/eric/Projects/sentiment/venv/lib/python2.7/site-packages/requests/models.py\", line 720, in iter_lines\n",
      "    for chunk in self.iter_content(chunk_size=chunk_size, decode_unicode=decode_unicode):\n",
      "  File \"/Users/eric/Projects/sentiment/venv/lib/python2.7/site-packages/requests/models.py\", line 679, in generate\n",
      "    raise ChunkedEncodingError(e)\n",
      "ChunkedEncodingError: ('Connection broken: IncompleteRead(0 bytes read, 512 more expected)', IncompleteRead(0 bytes read, 512 more expected))\n",
      "\n"
     ]
    },
    {
     "name": "stdout",
     "output_type": "stream",
     "text": [
      "\b\b\b\b\b\b\b\b\b\b\b\b\b\b\b\b\b\b\b\b\b\b\b\b\b\b\b\b\b\b\b\b\b\b\b\b\b\b\b\b\b\b\b\b\b\b\b\b\b\b\b\b\b\b\b\b\b\b\b\b\b\b\b\b\b\b\b\r",
      " 700/1000 [====================>.........] - ETA: 4s - loss: 0.3505"
     ]
    },
    {
     "ename": "Exception",
     "evalue": "output of generator should be a tuple (x, y, sample_weight) or (x, y). Found: None",
     "output_type": "error",
     "traceback": [
      "\u001b[0;31m---------------------------------------------------------------------------\u001b[0m",
      "\u001b[0;31mException\u001b[0m                                 Traceback (most recent call last)",
      "\u001b[0;32m<ipython-input-52-ce5d1a69bd78>\u001b[0m in \u001b[0;36m<module>\u001b[0;34m()\u001b[0m\n\u001b[0;32m----> 1\u001b[0;31m \u001b[0mmodel\u001b[0m\u001b[0;34m.\u001b[0m\u001b[0mfit_generator\u001b[0m\u001b[0;34m(\u001b[0m\u001b[0mgen\u001b[0m\u001b[0;34m,\u001b[0m \u001b[0msamples_per_epoch\u001b[0m\u001b[0;34m=\u001b[0m\u001b[0;36m1000\u001b[0m\u001b[0;34m,\u001b[0m \u001b[0mnb_epoch\u001b[0m\u001b[0;34m=\u001b[0m\u001b[0;36m2\u001b[0m\u001b[0;34m)\u001b[0m\u001b[0;34m\u001b[0m\u001b[0m\n\u001b[0m",
      "\u001b[0;32m/Users/eric/Projects/sentiment/venv/lib/python2.7/site-packages/keras/models.pyc\u001b[0m in \u001b[0;36mfit_generator\u001b[0;34m(self, generator, samples_per_epoch, nb_epoch, verbose, callbacks, validation_data, nb_val_samples, class_weight, max_q_size, nb_worker, pickle_safe, **kwargs)\u001b[0m\n\u001b[1;32m    872\u001b[0m                                         \u001b[0mmax_q_size\u001b[0m\u001b[0;34m=\u001b[0m\u001b[0mmax_q_size\u001b[0m\u001b[0;34m,\u001b[0m\u001b[0;34m\u001b[0m\u001b[0m\n\u001b[1;32m    873\u001b[0m                                         \u001b[0mnb_worker\u001b[0m\u001b[0;34m=\u001b[0m\u001b[0mnb_worker\u001b[0m\u001b[0;34m,\u001b[0m\u001b[0;34m\u001b[0m\u001b[0m\n\u001b[0;32m--> 874\u001b[0;31m                                         pickle_safe=pickle_safe)\n\u001b[0m\u001b[1;32m    875\u001b[0m \u001b[0;34m\u001b[0m\u001b[0m\n\u001b[1;32m    876\u001b[0m     \u001b[0;32mdef\u001b[0m \u001b[0mevaluate_generator\u001b[0m\u001b[0;34m(\u001b[0m\u001b[0mself\u001b[0m\u001b[0;34m,\u001b[0m \u001b[0mgenerator\u001b[0m\u001b[0;34m,\u001b[0m \u001b[0mval_samples\u001b[0m\u001b[0;34m,\u001b[0m \u001b[0mmax_q_size\u001b[0m\u001b[0;34m=\u001b[0m\u001b[0;36m10\u001b[0m\u001b[0;34m,\u001b[0m \u001b[0mnb_worker\u001b[0m\u001b[0;34m=\u001b[0m\u001b[0;36m1\u001b[0m\u001b[0;34m,\u001b[0m \u001b[0mpickle_safe\u001b[0m\u001b[0;34m=\u001b[0m\u001b[0mFalse\u001b[0m\u001b[0;34m,\u001b[0m \u001b[0;34m**\u001b[0m\u001b[0mkwargs\u001b[0m\u001b[0;34m)\u001b[0m\u001b[0;34m:\u001b[0m\u001b[0;34m\u001b[0m\u001b[0m\n",
      "\u001b[0;32m/Users/eric/Projects/sentiment/venv/lib/python2.7/site-packages/keras/engine/training.pyc\u001b[0m in \u001b[0;36mfit_generator\u001b[0;34m(self, generator, samples_per_epoch, nb_epoch, verbose, callbacks, validation_data, nb_val_samples, class_weight, max_q_size, nb_worker, pickle_safe)\u001b[0m\n\u001b[1;32m   1415\u001b[0m                     raise Exception('output of generator should be a tuple '\n\u001b[1;32m   1416\u001b[0m                                     \u001b[0;34m'(x, y, sample_weight) '\u001b[0m\u001b[0;34m\u001b[0m\u001b[0m\n\u001b[0;32m-> 1417\u001b[0;31m                                     'or (x, y). Found: ' + str(generator_output))\n\u001b[0m\u001b[1;32m   1418\u001b[0m                 \u001b[0;32mif\u001b[0m \u001b[0mlen\u001b[0m\u001b[0;34m(\u001b[0m\u001b[0mgenerator_output\u001b[0m\u001b[0;34m)\u001b[0m \u001b[0;34m==\u001b[0m \u001b[0;36m2\u001b[0m\u001b[0;34m:\u001b[0m\u001b[0;34m\u001b[0m\u001b[0m\n\u001b[1;32m   1419\u001b[0m                     \u001b[0mx\u001b[0m\u001b[0;34m,\u001b[0m \u001b[0my\u001b[0m \u001b[0;34m=\u001b[0m \u001b[0mgenerator_output\u001b[0m\u001b[0;34m\u001b[0m\u001b[0m\n",
      "\u001b[0;31mException\u001b[0m: output of generator should be a tuple (x, y, sample_weight) or (x, y). Found: None"
     ]
    }
   ],
   "source": [
    "model.fit_generator(gen, samples_per_epoch=1000, nb_epoch=2)"
   ]
  },
  {
   "cell_type": "code",
   "execution_count": 2,
   "metadata": {
    "collapsed": false
   },
   "outputs": [
    {
     "ename": "NameError",
     "evalue": "name 're' is not defined",
     "output_type": "error",
     "traceback": [
      "\u001b[0;31m---------------------------------------------------------------------------\u001b[0m",
      "\u001b[0;31mNameError\u001b[0m                                 Traceback (most recent call last)",
      "\u001b[0;32m<ipython-input-2-ff1fbdb87634>\u001b[0m in \u001b[0;36m<module>\u001b[0;34m()\u001b[0m\n\u001b[0;32m----> 1\u001b[0;31m \u001b[0mre\u001b[0m\u001b[0;34m\u001b[0m\u001b[0m\n\u001b[0m",
      "\u001b[0;31mNameError\u001b[0m: name 're' is not defined"
     ]
    }
   ],
   "source": [
    "re"
   ]
  },
  {
   "cell_type": "code",
   "execution_count": 3,
   "metadata": {
    "collapsed": true
   },
   "outputs": [],
   "source": [
    "import re"
   ]
  },
  {
   "cell_type": "code",
   "execution_count": 44,
   "metadata": {
    "collapsed": false
   },
   "outputs": [],
   "source": [
    "r = re.search('[0-9]+[a-z]', '1234h')"
   ]
  },
  {
   "cell_type": "code",
   "execution_count": 45,
   "metadata": {
    "collapsed": false
   },
   "outputs": [
    {
     "data": {
      "text/plain": [
       "'1234h'"
      ]
     },
     "execution_count": 45,
     "metadata": {},
     "output_type": "execute_result"
    }
   ],
   "source": [
    "r.group(0)"
   ]
  },
  {
   "cell_type": "code",
   "execution_count": null,
   "metadata": {
    "collapsed": true
   },
   "outputs": [],
   "source": []
  }
 ],
 "metadata": {
  "kernelspec": {
   "display_name": "Python 2",
   "language": "python",
   "name": "python2"
  },
  "language_info": {
   "codemirror_mode": {
    "name": "ipython",
    "version": 2
   },
   "file_extension": ".py",
   "mimetype": "text/x-python",
   "name": "python",
   "nbconvert_exporter": "python",
   "pygments_lexer": "ipython2",
   "version": "2.7.10"
  }
 },
 "nbformat": 4,
 "nbformat_minor": 1
}
