{
 "cells": [
  {
   "cell_type": "code",
   "execution_count": 2,
   "metadata": {
    "collapsed": true
   },
   "outputs": [],
   "source": [
    "import os\n",
    "os.chdir(\"/Users/eric/Projects/sentiment/\")"
   ]
  },
  {
   "cell_type": "code",
   "execution_count": 2,
   "metadata": {
    "collapsed": true
   },
   "outputs": [],
   "source": [
    "import numpy as np"
   ]
  },
  {
   "cell_type": "code",
   "execution_count": 4,
   "metadata": {
    "collapsed": false
   },
   "outputs": [
    {
     "name": "stderr",
     "output_type": "stream",
     "text": [
      "/Users/eric/Projects/sentiment/venv/lib/python2.7/site-packages/flask_sqlalchemy/__init__.py:800: UserWarning: SQLALCHEMY_TRACK_MODIFICATIONS adds significant overhead and will be disabled by default in the future.  Set it to True to suppress this warning.\n",
      "  warnings.warn('SQLALCHEMY_TRACK_MODIFICATIONS adds significant overhead and will be disabled by default in the future.  Set it to True to suppress this warning.')\n"
     ]
    }
   ],
   "source": [
    "from app import db, app\n",
    "from app.emojis import emojis\n",
    "from app.models import Tweet"
   ]
  },
  {
   "cell_type": "code",
   "execution_count": 4,
   "metadata": {
    "collapsed": false
   },
   "outputs": [
    {
     "name": "stderr",
     "output_type": "stream",
     "text": [
      "Using Theano backend.\n"
     ]
    }
   ],
   "source": [
    "import keras\n",
    "from keras.models import Model\n",
    "from keras.layers import Input\n",
    "from keras.layers.core import Dense, Dropout\n",
    "from keras.layers.embeddings import Embedding\n",
    "from keras.layers.recurrent import LSTM"
   ]
  },
  {
   "cell_type": "code",
   "execution_count": 14,
   "metadata": {
    "collapsed": true
   },
   "outputs": [],
   "source": [
    "def data_gen(batch_size=100):\n",
    "    ids = db.session.query(Tweet.id).all()\n",
    "    ids = [i[0] for i in ids]\n",
    "    \n",
    "    nb_batchs = int(len(ids) / batch_size)\n",
    "    \n",
    "    while True:\n",
    "        np.random.shuffle(ids)\n",
    "        \n",
    "        for i in range(nb_batchs):\n",
    "            \n",
    "            ids_ss = ids[i*batch_size:(i+1)*batch_size]\n",
    "            \n",
    "            tweets = db.session.query(Tweet).filter(Tweet.id.in_(ids_ss)).all()\n",
    "\n",
    "            xs = [tweet.x for tweet in tweets]\n",
    "            ys = [tweet.y for tweet in tweets]\n",
    "            ss = [tweet.sentiment for tweet in tweets]\n",
    "\n",
    "            x = np.stack(xs)\n",
    "            y = np.stack(ys)\n",
    "            s = np.stack(ss)\n",
    "            \n",
    "            yield np.stack(xs), [np.stack(ys), np.stack(ss)]"
   ]
  },
  {
   "cell_type": "code",
   "execution_count": 15,
   "metadata": {
    "collapsed": true
   },
   "outputs": [],
   "source": [
    "gen = data_gen()"
   ]
  },
  {
   "cell_type": "code",
   "execution_count": 18,
   "metadata": {
    "collapsed": false
   },
   "outputs": [
    {
     "name": "stdout",
     "output_type": "stream",
     "text": [
      "(100, 140)\n",
      "(100, 98)\n",
      "(100,)\n"
     ]
    }
   ],
   "source": [
    "x, y = gen.next()\n",
    "print x.shape\n",
    "print y[0].shape\n",
    "print y[1].shape"
   ]
  },
  {
   "cell_type": "code",
   "execution_count": 8,
   "metadata": {
    "collapsed": false
   },
   "outputs": [],
   "source": [
    "text = Input(shape=(140,))\n",
    "\n",
    "x = Embedding(input_dim=500, output_dim=10)(text)\n",
    "x = LSTM(128, return_sequences=True)(x)\n",
    "x = LSTM(128)(x)\n",
    "x = Dense(128, activation=\"relu\")(x)\n",
    "x = Dropout(0.5)(x)\n",
    "\n",
    "emoji = Dense(len(emojis), activation=\"sigmoid\", name=\"emoji\")(x)\n",
    "sentiment = Dense(1, activation=\"linear\", name=\"sentiment\")(x)"
   ]
  },
  {
   "cell_type": "code",
   "execution_count": 9,
   "metadata": {
    "collapsed": false
   },
   "outputs": [],
   "source": [
    "model = Model(text, [emoji, sentiment])"
   ]
  },
  {
   "cell_type": "code",
   "execution_count": 10,
   "metadata": {
    "collapsed": false
   },
   "outputs": [],
   "source": [
    "model.compile(\"RMSprop\", \n",
    "              loss={'sentiment': \"mae\", \"emoji\": \"binary_crossentropy\"},\n",
    "              loss_weights={\"sentiment\":0.2, \"emoji\": 0.8})"
   ]
  },
  {
   "cell_type": "code",
   "execution_count": 11,
   "metadata": {
    "collapsed": false
   },
   "outputs": [
    {
     "data": {
      "text/plain": [
       "(None, 140)"
      ]
     },
     "execution_count": 11,
     "metadata": {},
     "output_type": "execute_result"
    }
   ],
   "source": [
    "model.input_shape"
   ]
  },
  {
   "cell_type": "code",
   "execution_count": 12,
   "metadata": {
    "collapsed": false
   },
   "outputs": [
    {
     "data": {
      "text/plain": [
       "[(None, 98), (None, 1)]"
      ]
     },
     "execution_count": 12,
     "metadata": {},
     "output_type": "execute_result"
    }
   ],
   "source": [
    "model.output_shape"
   ]
  },
  {
   "cell_type": "code",
   "execution_count": 19,
   "metadata": {
    "collapsed": false
   },
   "outputs": [
    {
     "name": "stdout",
     "output_type": "stream",
     "text": [
      "Epoch 1/3\n",
      "1000/1000 [==============================] - 13s - loss: 0.3785 - emoji_loss: 0.2456 - sentiment_loss: 0.9097    \n",
      "Epoch 2/3\n",
      "1000/1000 [==============================] - 12s - loss: 0.2773 - emoji_loss: 0.1327 - sentiment_loss: 0.8556    \n",
      "Epoch 3/3\n",
      "1000/1000 [==============================] - 13s - loss: 0.2434 - emoji_loss: 0.0943 - sentiment_loss: 0.8395    \n"
     ]
    },
    {
     "data": {
      "text/plain": [
       "<keras.callbacks.History at 0x119151e10>"
      ]
     },
     "execution_count": 19,
     "metadata": {},
     "output_type": "execute_result"
    }
   ],
   "source": [
    "model.fit_generator(gen, samples_per_epoch=1e3, nb_epoch=3)"
   ]
  },
  {
   "cell_type": "code",
   "execution_count": 22,
   "metadata": {
    "collapsed": false
   },
   "outputs": [],
   "source": [
    "model.save('./data/model.h5')"
   ]
  },
  {
   "cell_type": "code",
   "execution_count": 23,
   "metadata": {
    "collapsed": true
   },
   "outputs": [],
   "source": [
    "m = keras.models.load_model('./data/model.h5')"
   ]
  },
  {
   "cell_type": "code",
   "execution_count": 5,
   "metadata": {
    "collapsed": false
   },
   "outputs": [
    {
     "data": {
      "text/plain": [
       "'/Users/eric/Projects/sentiment'"
      ]
     },
     "execution_count": 5,
     "metadata": {},
     "output_type": "execute_result"
    }
   ],
   "source": [
    "app.config['BASE_DIR']"
   ]
  },
  {
   "cell_type": "code",
   "execution_count": 3,
   "metadata": {
    "collapsed": false
   },
   "outputs": [
    {
     "name": "stderr",
     "output_type": "stream",
     "text": [
      "/Users/eric/Projects/sentiment/venv/lib/python2.7/site-packages/flask_sqlalchemy/__init__.py:800: UserWarning: SQLALCHEMY_TRACK_MODIFICATIONS adds significant overhead and will be disabled by default in the future.  Set it to True to suppress this warning.\n",
      "  warnings.warn('SQLALCHEMY_TRACK_MODIFICATIONS adds significant overhead and will be disabled by default in the future.  Set it to True to suppress this warning.')\n",
      "Using Theano backend.\n"
     ]
    }
   ],
   "source": [
    "from app.ml import *"
   ]
  },
  {
   "cell_type": "code",
   "execution_count": 4,
   "metadata": {
    "collapsed": false
   },
   "outputs": [],
   "source": [
    "sm = SentimentModel()"
   ]
  },
  {
   "cell_type": "code",
   "execution_count": 5,
   "metadata": {
    "collapsed": false
   },
   "outputs": [
    {
     "data": {
      "text/plain": [
       "'{\"sentiment\": 0.6268870234489441, \"emoji\": {\"\\\\ud83d\\\\udc7d\": 0.0006763793062418699, \"\\\\ud83d\\\\udc7f\": 0.0008735649171285331, \"\\\\ud83d\\\\udc7e\": 0.0006574963335879147, \"\\\\ud83d\\\\udc79\": 0.0009267145651392639, \"\\\\ud83d\\\\udc7b\": 0.003655147971585393, \"\\\\ud83d\\\\udc7a\": 0.00036284560337662697, \"\\\\ud83e\\\\udd20\": 0.0018075841944664717, \"\\\\ud83e\\\\udd21\": 0.0008186119957827032, \"\\\\ud83e\\\\udd22\": 0.00016433425480499864, \"\\\\ud83e\\\\udd23\": 0.0023325912188738585, \"\\\\ud83e\\\\udd24\": 0.0010427703382447362, \"\\\\ud83e\\\\udd25\": 0.0011272174306213856, \"\\\\ud83e\\\\udd27\": 0.001237641554325819, \"\\\\u2620\": 0.0005516682867892087, \"\\\\ud83e\\\\udd10\": 0.0031993172597140074, \"\\\\ud83e\\\\udd11\": 0.0012918992433696985, \"\\\\ud83e\\\\udd12\": 0.0011923221172764897, \"\\\\ud83e\\\\udd13\": 0.0018465768080204725, \"\\\\ud83e\\\\udd14\": 0.013511782512068748, \"\\\\ud83e\\\\udd15\": 0.0019174161134287715, \"\\\\ud83e\\\\udd16\": 0.0009297095239162445, \"\\\\ud83e\\\\udd17\": 0.004166895058006048, \"\\\\ud83d\\\\ude44\": 0.02125595696270466, \"\\\\ud83d\\\\ude41\": 0.0015945900231599808, \"\\\\ud83d\\\\ude40\": 0.0006964207859709859, \"\\\\ud83d\\\\ude43\": 0.005503195337951183, \"\\\\ud83d\\\\ude42\": 0.0047167036682367325, \"\\\\ud83d\\\\ude49\": 0.001158680533990264, \"\\\\ud83d\\\\ude48\": 0.005856081377714872, \"\\\\ud83d\\\\ude4a\": 0.0029972228221595287, \"\\\\ud83d\\\\ude35\": 0.002070776419714093, \"\\\\ud83d\\\\ude34\": 0.0046609994024038315, \"\\\\ud83d\\\\ude37\": 0.001839658827520907, \"\\\\ud83d\\\\ude36\": 0.0019508489640429616, \"\\\\ud83d\\\\ude31\": 0.00649259565398097, \"\\\\ud83d\\\\ude30\": 0.0022440089378505945, \"\\\\ud83d\\\\ude33\": 0.01003488339483738, \"\\\\ud83d\\\\ude32\": 0.001042880117893219, \"\\\\ud83d\\\\ude3d\": 0.001498908968642354, \"\\\\ud83d\\\\ude3c\": 0.0008064051507972181, \"\\\\ud83d\\\\ude3f\": 0.0007142206304706633, \"\\\\ud83d\\\\ude3e\": 0.000610741029959172, \"\\\\ud83d\\\\ude39\": 0.0017160230781883001, \"\\\\ud83d\\\\ude38\": 0.002981908619403839, \"\\\\ud83d\\\\ude3b\": 0.004940169397741556, \"\\\\ud83d\\\\ude3a\": 0.001389864133670926, \"\\\\ud83d\\\\ude25\": 0.0032733511179685593, \"\\\\ud83d\\\\ude24\": 0.0020946385338902473, \"\\\\ud83d\\\\ude27\": 0.0008163012098520994, \"\\\\ud83d\\\\ude26\": 0.000829197175335139, \"\\\\ud83d\\\\ude21\": 0.003223627107217908, \"\\\\ud83d\\\\ude20\": 0.00280934339389205, \"\\\\ud83d\\\\ude23\": 0.0033927212934941053, \"\\\\ud83d\\\\ude22\": 0.01206356193870306, \"\\\\ud83d\\\\ude2d\": 0.04294156655669212, \"\\\\ud83d\\\\ude2c\": 0.0041269538924098015, \"\\\\ud83d\\\\ude2f\": 0.0008108102483674884, \"\\\\ud83d\\\\ude2e\": 0.0008801297517493367, \"\\\\ud83d\\\\ude29\": 0.011827947571873665, \"\\\\ud83d\\\\ude28\": 0.00203314539976418, \"\\\\ud83d\\\\ude2b\": 0.003102711634710431, \"\\\\ud83d\\\\ude2a\": 0.004322072956711054, \"\\\\ud83d\\\\ude15\": 0.00448659947142005, \"\\\\ud83d\\\\ude14\": 0.008849918842315674, \"\\\\ud83d\\\\ude17\": 0.0008735303417779505, \"\\\\ud83d\\\\ude16\": 0.0013843054184690118, \"\\\\ud83d\\\\ude11\": 0.008053354918956757, \"\\\\ud83d\\\\ude10\": 0.0029185086023062468, \"\\\\ud83d\\\\ude13\": 0.0014208629727363586, \"\\\\ud83d\\\\ude12\": 0.012388602830469608, \"\\\\ud83d\\\\ude1d\": 0.0033682191278785467, \"\\\\ud83d\\\\ude1c\": 0.003518936224281788, \"\\\\ud83d\\\\ude1f\": 0.0014739618636667728, \"\\\\ud83d\\\\ude1e\": 0.003500045742839575, \"\\\\ud83d\\\\ude19\": 0.001306598773226142, \"\\\\ud83d\\\\ude18\": 0.0195966437458992, \"\\\\ud83d\\\\ude1b\": 0.0026930649764835835, \"\\\\ud83d\\\\ude1a\": 0.0035557362716645002, \"\\\\ud83d\\\\ude05\": 0.014035000465810299, \"\\\\ud83d\\\\ude04\": 0.006524733733385801, \"\\\\ud83d\\\\ude07\": 0.005915654823184013, \"\\\\ud83d\\\\ude06\": 0.005125418771058321, \"\\\\ud83d\\\\ude01\": 0.011445412412285805, \"\\\\ud83d\\\\ude00\": 0.006034846417605877, \"\\\\ud83d\\\\ude03\": 0.003386344062164426, \"\\\\ud83d\\\\ude02\": 0.19688193500041962, \"\\\\ud83d\\\\ude0d\": 0.08604760468006134, \"\\\\ud83d\\\\ude0c\": 0.0101676806807518, \"\\\\ud83d\\\\ude0f\": 0.016770733520388603, \"\\\\ud83d\\\\ude0e\": 0.011159930378198624, \"\\\\ud83d\\\\ude09\": 0.011971713975071907, \"\\\\ud83d\\\\ude08\": 0.004135735332965851, \"\\\\ud83d\\\\ude0b\": 0.004280933178961277, \"\\\\ud83d\\\\ude0a\": 0.03536304831504822, \"\\\\ud83d\\\\udca9\": 0.002524630632251501, \"\\\\ud83d\\\\udc80\": 0.004139613825827837, \"\\\\u263a\": 0.003317937022075057, \"\\\\u2639\": 0.0005954445223324001}}'"
      ]
     },
     "execution_count": 5,
     "metadata": {},
     "output_type": "execute_result"
    }
   ],
   "source": [
    "import json\n",
    "res = sm.score(\"hello asshole\")\n",
    "json.dumps(res)"
   ]
  },
  {
   "cell_type": "code",
   "execution_count": 3,
   "metadata": {
    "collapsed": false
   },
   "outputs": [],
   "source": [
    "gen = data_gen()"
   ]
  },
  {
   "cell_type": "code",
   "execution_count": 4,
   "metadata": {
    "collapsed": false
   },
   "outputs": [],
   "source": [
    "x, y = gen.next()"
   ]
  },
  {
   "cell_type": "code",
   "execution_count": 5,
   "metadata": {
    "collapsed": false
   },
   "outputs": [
    {
     "name": "stdout",
     "output_type": "stream",
     "text": [
      "(100, 140)\n",
      "(100, 98)\n",
      "(100,)\n"
     ]
    }
   ],
   "source": [
    "print x.shape\n",
    "print y[0].shape\n",
    "print y[1].shape"
   ]
  },
  {
   "cell_type": "code",
   "execution_count": 7,
   "metadata": {
    "collapsed": false
   },
   "outputs": [
    {
     "name": "stdout",
     "output_type": "stream",
     "text": [
      "Epoch 1/10\n",
      "1000/1000 [==============================] - 14s - loss: 0.2253 - emoji_loss: 0.0805 - sentiment_loss: 0.8047    \n",
      "Epoch 2/10\n",
      "1000/1000 [==============================] - 12s - loss: 0.1958 - emoji_loss: 0.0679 - sentiment_loss: 0.7078    \n",
      "Epoch 3/10\n",
      "1000/1000 [==============================] - 12s - loss: 0.1944 - emoji_loss: 0.0638 - sentiment_loss: 0.7170    \n",
      "Epoch 4/10\n",
      "1000/1000 [==============================] - 12s - loss: 0.1840 - emoji_loss: 0.0582 - sentiment_loss: 0.6873    \n",
      "Epoch 5/10\n",
      "1000/1000 [==============================] - 13s - loss: 0.1792 - emoji_loss: 0.0561 - sentiment_loss: 0.6717    \n",
      "Epoch 6/10\n",
      "1000/1000 [==============================] - 12s - loss: 0.1800 - emoji_loss: 0.0547 - sentiment_loss: 0.6811    \n",
      "Epoch 7/10\n",
      "1000/1000 [==============================] - 12s - loss: 0.1813 - emoji_loss: 0.0529 - sentiment_loss: 0.6948    \n",
      "Epoch 8/10\n",
      "1000/1000 [==============================] - 13s - loss: 0.1736 - emoji_loss: 0.0532 - sentiment_loss: 0.6556    \n",
      "Epoch 9/10\n",
      "1000/1000 [==============================] - 13s - loss: 0.1746 - emoji_loss: 0.0509 - sentiment_loss: 0.6697    \n",
      "Epoch 10/10\n",
      "1000/1000 [==============================] - 13s - loss: 0.1709 - emoji_loss: 0.0508 - sentiment_loss: 0.6512    \n"
     ]
    }
   ],
   "source": [
    "sm.fit()"
   ]
  },
  {
   "cell_type": "code",
   "execution_count": 26,
   "metadata": {
    "collapsed": true
   },
   "outputs": [],
   "source": [
    "tweet = Tweet(\"asshole\")"
   ]
  },
  {
   "cell_type": "code",
   "execution_count": 27,
   "metadata": {
    "collapsed": false
   },
   "outputs": [
    {
     "name": "stdout",
     "output_type": "stream",
     "text": [
      "[[  0   0   0   0   0   0   0   0   0   0   0   0   0   0   0   0   0   0\n",
      "    0   0   0   0   0   0   0   0   0   0   0   0   0   0   0   0   0   0\n",
      "    0   0   0   0   0   0   0   0   0   0   0   0   0   0   0   0   0   0\n",
      "    0   0   0   0   0   0   0   0   0   0   0   0   0   0   0   0   0   0\n",
      "    0   0   0   0   0   0   0   0   0   0   0   0   0   0   0   0   0   0\n",
      "    0   0   0   0   0   0   0   0   0   0   0   0   0   0   0   0   0   0\n",
      "    0   0   0   0   0   0   0   0   0   0   0   0   0   0   0   0   0   0\n",
      "    0   0   0   0   0   0   0  97 115 115 104 111 108 101]]\n"
     ]
    }
   ],
   "source": [
    "x = tweet.x\n",
    "x = x.reshape(1,-1)\n",
    "print x"
   ]
  },
  {
   "cell_type": "code",
   "execution_count": 28,
   "metadata": {
    "collapsed": false
   },
   "outputs": [],
   "source": [
    "scores, sentiment = sm._model.predict(x)\n",
    "scores = [float(s) for s in scores[0, :]]"
   ]
  },
  {
   "cell_type": "code",
   "execution_count": 44,
   "metadata": {
    "collapsed": true
   },
   "outputs": [],
   "source": [
    "from app.emojis import emojis"
   ]
  },
  {
   "cell_type": "code",
   "execution_count": 52,
   "metadata": {
    "collapsed": false
   },
   "outputs": [
    {
     "data": {
      "text/plain": [
       "{u'\\u2620': 0.0005553455,\n",
       " u'\\u2639': 0.00060017704,\n",
       " u'\\u263a': 0.0033355926,\n",
       " u'\\U0001f479': 0.00093294395,\n",
       " u'\\U0001f47a': 0.00036572057,\n",
       " u'\\U0001f47b': 0.0036794406,\n",
       " u'\\U0001f47d': 0.00068191515,\n",
       " u'\\U0001f47e': 0.00066171226,\n",
       " u'\\U0001f47f': 0.00087931415,\n",
       " u'\\U0001f480': 0.0041601495,\n",
       " u'\\U0001f4a9': 0.00253916,\n",
       " u'\\U0001f600': 0.0060702884,\n",
       " u'\\U0001f601': 0.011491443,\n",
       " u'\\U0001f602': 0.19711156,\n",
       " u'\\U0001f603': 0.0034022275,\n",
       " u'\\U0001f604': 0.0065536387,\n",
       " u'\\U0001f605': 0.014090926,\n",
       " u'\\U0001f606': 0.0051479903,\n",
       " u'\\U0001f607': 0.0059363567,\n",
       " u'\\U0001f608': 0.0041555413,\n",
       " u'\\U0001f609': 0.012023636,\n",
       " u'\\U0001f60a': 0.035437182,\n",
       " u'\\U0001f60b': 0.0043066507,\n",
       " u'\\U0001f60c': 0.010213773,\n",
       " u'\\U0001f60d': 0.086236186,\n",
       " u'\\U0001f60e': 0.011207685,\n",
       " u'\\U0001f60f': 0.016847141,\n",
       " u'\\U0001f610': 0.0029342778,\n",
       " u'\\U0001f611': 0.0080885673,\n",
       " u'\\U0001f612': 0.01243473,\n",
       " u'\\U0001f613': 0.001427831,\n",
       " u'\\U0001f614': 0.0088938354,\n",
       " u'\\U0001f615': 0.0045010862,\n",
       " u'\\U0001f616': 0.0013939184,\n",
       " u'\\U0001f617': 0.00087821099,\n",
       " u'\\U0001f618': 0.019628817,\n",
       " u'\\U0001f619': 0.0013144929,\n",
       " u'\\U0001f61a': 0.0035727525,\n",
       " u'\\U0001f61b': 0.0027064828,\n",
       " u'\\U0001f61c': 0.0035298413,\n",
       " u'\\U0001f61d': 0.0033858742,\n",
       " u'\\U0001f61e': 0.0035184228,\n",
       " u'\\U0001f61f': 0.0014817845,\n",
       " u'\\U0001f620': 0.0028250432,\n",
       " u'\\U0001f621': 0.0032440326,\n",
       " u'\\U0001f622': 0.012115072,\n",
       " u'\\U0001f623': 0.0034150728,\n",
       " u'\\U0001f624': 0.0021078335,\n",
       " u'\\U0001f625': 0.0032900698,\n",
       " u'\\U0001f626': 0.00083442207,\n",
       " u'\\U0001f627': 0.00082122895,\n",
       " u'\\U0001f628': 0.0020438314,\n",
       " u'\\U0001f629': 0.011891764,\n",
       " u'\\U0001f62a': 0.0043471986,\n",
       " u'\\U0001f62b': 0.0031171769,\n",
       " u'\\U0001f62c': 0.0041498975,\n",
       " u'\\U0001f62d': 0.043039165,\n",
       " u'\\U0001f62e': 0.00088539097,\n",
       " u'\\U0001f62f': 0.00081664202,\n",
       " u'\\U0001f630': 0.0022575562,\n",
       " u'\\U0001f631': 0.0065245172,\n",
       " u'\\U0001f632': 0.0010502762,\n",
       " u'\\U0001f633': 0.010075385,\n",
       " u'\\U0001f634': 0.0046833539,\n",
       " u'\\U0001f635': 0.0020810834,\n",
       " u'\\U0001f636': 0.0019630445,\n",
       " u'\\U0001f637': 0.0018521415,\n",
       " u'\\U0001f638': 0.0030015148,\n",
       " u'\\U0001f639': 0.0017275597,\n",
       " u'\\U0001f63a': 0.0013983332,\n",
       " u'\\U0001f63b': 0.0049655777,\n",
       " u'\\U0001f63c': 0.0008114769,\n",
       " u'\\U0001f63d': 0.0015079647,\n",
       " u'\\U0001f63e': 0.00061433931,\n",
       " u'\\U0001f63f': 0.00071847264,\n",
       " u'\\U0001f640': 0.00070087472,\n",
       " u'\\U0001f641': 0.0016046041,\n",
       " u'\\U0001f642': 0.0047454746,\n",
       " u'\\U0001f643': 0.0055206581,\n",
       " u'\\U0001f644': 0.021330744,\n",
       " u'\\U0001f648': 0.0058866693,\n",
       " u'\\U0001f649': 0.0011642239,\n",
       " u'\\U0001f64a': 0.0030088383,\n",
       " u'\\U0001f910': 0.0032226865,\n",
       " u'\\U0001f911': 0.0012990308,\n",
       " u'\\U0001f912': 0.0012015004,\n",
       " u'\\U0001f913': 0.0018585498,\n",
       " u'\\U0001f914': 0.01354672,\n",
       " u'\\U0001f915': 0.0019263075,\n",
       " u'\\U0001f916': 0.0009344581,\n",
       " u'\\U0001f917': 0.0041885083,\n",
       " u'\\U0001f920': 0.0018187576,\n",
       " u'\\U0001f921': 0.00082440709,\n",
       " u'\\U0001f922': 0.00016584875,\n",
       " u'\\U0001f923': 0.0023465792,\n",
       " u'\\U0001f924': 0.0010497585,\n",
       " u'\\U0001f925': 0.0011356036,\n",
       " u'\\U0001f927': 0.0012465661}"
      ]
     },
     "execution_count": 52,
     "metadata": {},
     "output_type": "execute_result"
    }
   ],
   "source": [
    "dict(zip(emojis, scores[0, :]))"
   ]
  },
  {
   "cell_type": "code",
   "execution_count": 4,
   "metadata": {
    "collapsed": true
   },
   "outputs": [],
   "source": [
    "from flask import jsonify"
   ]
  },
  {
   "cell_type": "code",
   "execution_count": 5,
   "metadata": {
    "collapsed": true
   },
   "outputs": [],
   "source": [
    "res = sm.score('hello')"
   ]
  },
  {
   "cell_type": "code",
   "execution_count": 12,
   "metadata": {
    "collapsed": false
   },
   "outputs": [],
   "source": [
    "import json\n",
    "import simplejson"
   ]
  },
  {
   "cell_type": "code",
   "execution_count": 18,
   "metadata": {
    "collapsed": false
   },
   "outputs": [
    {
     "data": {
      "text/plain": [
       "'{\"a\": 1.1}'"
      ]
     },
     "execution_count": 18,
     "metadata": {},
     "output_type": "execute_result"
    }
   ],
   "source": [
    "json.dumps({\"a\": 1.1000000}, ensure_ascii=False)"
   ]
  },
  {
   "cell_type": "code",
   "execution_count": 23,
   "metadata": {
    "collapsed": false
   },
   "outputs": [
    {
     "data": {
      "text/plain": [
       "numpy.float32"
      ]
     },
     "execution_count": 23,
     "metadata": {},
     "output_type": "execute_result"
    }
   ],
   "source": [
    "type(res['emoji'].values()[1])"
   ]
  },
  {
   "cell_type": "code",
   "execution_count": null,
   "metadata": {
    "collapsed": true
   },
   "outputs": [],
   "source": []
  }
 ],
 "metadata": {
  "kernelspec": {
   "display_name": "Python 2",
   "language": "python",
   "name": "python2"
  },
  "language_info": {
   "codemirror_mode": {
    "name": "ipython",
    "version": 2
   },
   "file_extension": ".py",
   "mimetype": "text/x-python",
   "name": "python",
   "nbconvert_exporter": "python",
   "pygments_lexer": "ipython2",
   "version": "2.7.10"
  }
 },
 "nbformat": 4,
 "nbformat_minor": 1
}
