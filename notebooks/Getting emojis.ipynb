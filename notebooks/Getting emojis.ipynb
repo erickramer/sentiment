{
 "cells": [
  {
   "cell_type": "code",
   "execution_count": 1,
   "metadata": {
    "collapsed": true
   },
   "outputs": [],
   "source": [
    "from bs4 import BeautifulSoup\n",
    "import requests"
   ]
  },
  {
   "cell_type": "code",
   "execution_count": 2,
   "metadata": {
    "collapsed": true
   },
   "outputs": [],
   "source": [
    "EMOJI_URL = 'http://unicode.org/emoji/charts/emoji-list.html'"
   ]
  },
  {
   "cell_type": "code",
   "execution_count": 3,
   "metadata": {
    "collapsed": true
   },
   "outputs": [],
   "source": [
    "res = requests.get(EMOJI_URL)\n",
    "bs = BeautifulSoup(res.content, 'html.parser')"
   ]
  },
  {
   "cell_type": "code",
   "execution_count": 4,
   "metadata": {
    "collapsed": false
   },
   "outputs": [],
   "source": [
    "positive = range(1,21)\n",
    "negative = range(47, 66)\n",
    "nb_emoji = 98\n",
    "\n",
    "emojis = []\n",
    "positive_emojis = []\n",
    "negative_emojis = []\n",
    "\n",
    "\n",
    "for row in bs.find_all('tr'):\n",
    "    i = row.find_next(attrs='rchars').text\n",
    "    emoji = row.find_next(attrs=\"chars\").text\n",
    "    \n",
    "    try:\n",
    "        i = int(i)\n",
    "        if i <= nb_emoji:\n",
    "            emojis.append(emoji)\n",
    "            if i in positive:\n",
    "                positive_emojis.append(emoji)\n",
    "            elif i in negative:\n",
    "                negative_emojis.append(emoji)\n",
    "        else:\n",
    "            break\n",
    "    except ValueError:\n",
    "        pass"
   ]
  },
  {
   "cell_type": "code",
   "execution_count": 5,
   "metadata": {
    "collapsed": false
   },
   "outputs": [
    {
     "name": "stdout",
     "output_type": "stream",
     "text": [
      "😀 😁 😂 🤣 😃 😄 😅 😆 😉 😊 😋 😎 😍 😘 😗 😙 😚 ☺ 🙂 🤗 🤔 😐 😑 😶 🙄 😏 😣 😥 😮 🤐 😯 😪 😫 😴 😌 🤓 😛 😜 😝 🤤 😒 😓 😔 😕 🙃 🤑 😲 ☹ 🙁 😖 😞 😟 😤 😢 😭 😦 😧 😨 😩 😬 😰 😱 😳 😵 😡 😠 😇 🤠 🤡 🤥 😷 🤒 🤕 🤢 🤧 😈 👿 👹 👺 💀 ☠ 👻 👽 👾 🤖 💩 😺 😸 😹 😻 😼 😽 🙀 😿 😾 🙈 🙉 🙊\n"
     ]
    }
   ],
   "source": [
    "for e in emojis:\n",
    "    print e,"
   ]
  },
  {
   "cell_type": "code",
   "execution_count": 6,
   "metadata": {
    "collapsed": false
   },
   "outputs": [
    {
     "name": "stdout",
     "output_type": "stream",
     "text": [
      "😀 😁 😂 🤣 😃 😄 😅 😆 😉 😊 😋 😎 😍 😘 😗 😙 😚 ☺ 🙂 🤗\n"
     ]
    }
   ],
   "source": [
    "for e in positive_emojis:\n",
    "    print e,"
   ]
  },
  {
   "cell_type": "code",
   "execution_count": 7,
   "metadata": {
    "collapsed": false
   },
   "outputs": [
    {
     "name": "stdout",
     "output_type": "stream",
     "text": [
      "😲 ☹ 🙁 😖 😞 😟 😤 😢 😭 😦 😧 😨 😩 😬 😰 😱 😳 😵 😡\n"
     ]
    }
   ],
   "source": [
    "for e in negative_emojis:\n",
    "    print e,"
   ]
  },
  {
   "cell_type": "code",
   "execution_count": 8,
   "metadata": {
    "collapsed": false
   },
   "outputs": [
    {
     "data": {
      "text/plain": [
       "[u'\\U0001f600',\n",
       " u'\\U0001f601',\n",
       " u'\\U0001f602',\n",
       " u'\\U0001f923',\n",
       " u'\\U0001f603',\n",
       " u'\\U0001f604',\n",
       " u'\\U0001f605',\n",
       " u'\\U0001f606',\n",
       " u'\\U0001f609',\n",
       " u'\\U0001f60a',\n",
       " u'\\U0001f60b',\n",
       " u'\\U0001f60e',\n",
       " u'\\U0001f60d',\n",
       " u'\\U0001f618',\n",
       " u'\\U0001f617',\n",
       " u'\\U0001f619',\n",
       " u'\\U0001f61a',\n",
       " u'\\u263a',\n",
       " u'\\U0001f642',\n",
       " u'\\U0001f917',\n",
       " u'\\U0001f914',\n",
       " u'\\U0001f610',\n",
       " u'\\U0001f611',\n",
       " u'\\U0001f636',\n",
       " u'\\U0001f644',\n",
       " u'\\U0001f60f',\n",
       " u'\\U0001f623',\n",
       " u'\\U0001f625',\n",
       " u'\\U0001f62e',\n",
       " u'\\U0001f910',\n",
       " u'\\U0001f62f',\n",
       " u'\\U0001f62a',\n",
       " u'\\U0001f62b',\n",
       " u'\\U0001f634',\n",
       " u'\\U0001f60c',\n",
       " u'\\U0001f913',\n",
       " u'\\U0001f61b',\n",
       " u'\\U0001f61c',\n",
       " u'\\U0001f61d',\n",
       " u'\\U0001f924',\n",
       " u'\\U0001f612',\n",
       " u'\\U0001f613',\n",
       " u'\\U0001f614',\n",
       " u'\\U0001f615',\n",
       " u'\\U0001f643',\n",
       " u'\\U0001f911',\n",
       " u'\\U0001f632',\n",
       " u'\\u2639',\n",
       " u'\\U0001f641',\n",
       " u'\\U0001f616',\n",
       " u'\\U0001f61e',\n",
       " u'\\U0001f61f',\n",
       " u'\\U0001f624',\n",
       " u'\\U0001f622',\n",
       " u'\\U0001f62d',\n",
       " u'\\U0001f626',\n",
       " u'\\U0001f627',\n",
       " u'\\U0001f628',\n",
       " u'\\U0001f629',\n",
       " u'\\U0001f62c',\n",
       " u'\\U0001f630',\n",
       " u'\\U0001f631',\n",
       " u'\\U0001f633',\n",
       " u'\\U0001f635',\n",
       " u'\\U0001f621',\n",
       " u'\\U0001f620',\n",
       " u'\\U0001f607',\n",
       " u'\\U0001f920',\n",
       " u'\\U0001f921',\n",
       " u'\\U0001f925',\n",
       " u'\\U0001f637',\n",
       " u'\\U0001f912',\n",
       " u'\\U0001f915',\n",
       " u'\\U0001f922',\n",
       " u'\\U0001f927',\n",
       " u'\\U0001f608',\n",
       " u'\\U0001f47f',\n",
       " u'\\U0001f479',\n",
       " u'\\U0001f47a',\n",
       " u'\\U0001f480',\n",
       " u'\\u2620',\n",
       " u'\\U0001f47b',\n",
       " u'\\U0001f47d',\n",
       " u'\\U0001f47e',\n",
       " u'\\U0001f916',\n",
       " u'\\U0001f4a9',\n",
       " u'\\U0001f63a',\n",
       " u'\\U0001f638',\n",
       " u'\\U0001f639',\n",
       " u'\\U0001f63b',\n",
       " u'\\U0001f63c',\n",
       " u'\\U0001f63d',\n",
       " u'\\U0001f640',\n",
       " u'\\U0001f63f',\n",
       " u'\\U0001f63e',\n",
       " u'\\U0001f648',\n",
       " u'\\U0001f649',\n",
       " u'\\U0001f64a']"
      ]
     },
     "execution_count": 8,
     "metadata": {},
     "output_type": "execute_result"
    }
   ],
   "source": [
    "emojis"
   ]
  },
  {
   "cell_type": "code",
   "execution_count": 9,
   "metadata": {
    "collapsed": false
   },
   "outputs": [
    {
     "data": {
      "text/plain": [
       "[u'\\U0001f600',\n",
       " u'\\U0001f601',\n",
       " u'\\U0001f602',\n",
       " u'\\U0001f923',\n",
       " u'\\U0001f603',\n",
       " u'\\U0001f604',\n",
       " u'\\U0001f605',\n",
       " u'\\U0001f606',\n",
       " u'\\U0001f609',\n",
       " u'\\U0001f60a',\n",
       " u'\\U0001f60b',\n",
       " u'\\U0001f60e',\n",
       " u'\\U0001f60d',\n",
       " u'\\U0001f618',\n",
       " u'\\U0001f617',\n",
       " u'\\U0001f619',\n",
       " u'\\U0001f61a',\n",
       " u'\\u263a',\n",
       " u'\\U0001f642',\n",
       " u'\\U0001f917']"
      ]
     },
     "execution_count": 9,
     "metadata": {},
     "output_type": "execute_result"
    }
   ],
   "source": [
    "positive_emojis"
   ]
  },
  {
   "cell_type": "code",
   "execution_count": 10,
   "metadata": {
    "collapsed": false
   },
   "outputs": [
    {
     "data": {
      "text/plain": [
       "[u'\\U0001f632',\n",
       " u'\\u2639',\n",
       " u'\\U0001f641',\n",
       " u'\\U0001f616',\n",
       " u'\\U0001f61e',\n",
       " u'\\U0001f61f',\n",
       " u'\\U0001f624',\n",
       " u'\\U0001f622',\n",
       " u'\\U0001f62d',\n",
       " u'\\U0001f626',\n",
       " u'\\U0001f627',\n",
       " u'\\U0001f628',\n",
       " u'\\U0001f629',\n",
       " u'\\U0001f62c',\n",
       " u'\\U0001f630',\n",
       " u'\\U0001f631',\n",
       " u'\\U0001f633',\n",
       " u'\\U0001f635',\n",
       " u'\\U0001f621']"
      ]
     },
     "execution_count": 10,
     "metadata": {},
     "output_type": "execute_result"
    }
   ],
   "source": [
    "negative_emojis"
   ]
  },
  {
   "cell_type": "code",
   "execution_count": null,
   "metadata": {
    "collapsed": true
   },
   "outputs": [],
   "source": []
  }
 ],
 "metadata": {
  "kernelspec": {
   "display_name": "Python 2",
   "language": "python",
   "name": "python2"
  },
  "language_info": {
   "codemirror_mode": {
    "name": "ipython",
    "version": 2
   },
   "file_extension": ".py",
   "mimetype": "text/x-python",
   "name": "python",
   "nbconvert_exporter": "python",
   "pygments_lexer": "ipython2",
   "version": "2.7.10"
  }
 },
 "nbformat": 4,
 "nbformat_minor": 1
}
