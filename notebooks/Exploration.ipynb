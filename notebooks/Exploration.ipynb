{
 "cells": [
  {
   "cell_type": "code",
   "execution_count": 15,
   "metadata": {},
   "outputs": [],
   "source": [
    "import keras as ks\n",
    "import os\n",
    "\n",
    "from keras.layers import Add"
   ]
  },
  {
   "cell_type": "code",
   "execution_count": 2,
   "metadata": {},
   "outputs": [],
   "source": [
    "os.chdir(\"../\")"
   ]
  },
  {
   "cell_type": "code",
   "execution_count": 3,
   "metadata": {
    "scrolled": false
   },
   "outputs": [],
   "source": [
    "from app.ml import *"
   ]
  },
  {
   "cell_type": "code",
   "execution_count": 4,
   "metadata": {},
   "outputs": [],
   "source": [
    "sentiment_model = SentimentModel()"
   ]
  },
  {
   "cell_type": "code",
   "execution_count": 5,
   "metadata": {},
   "outputs": [
    {
     "data": {
      "text/plain": [
       "array([[1.31258264e-03, 6.24552788e-03, 1.22826025e-01, 8.52592507e-07,\n",
       "        1.08195737e-03, 3.01530934e-03, 9.22469329e-03, 1.90696958e-03,\n",
       "        6.91011129e-03, 2.87761167e-02, 4.26246645e-03, 7.62469508e-03,\n",
       "        2.89721098e-02, 5.37825329e-03, 1.99749520e-05, 1.68902669e-04,\n",
       "        5.17549866e-04, 2.70506204e-03, 3.38463066e-03, 2.58256076e-03,\n",
       "        4.66407239e-02, 7.87843578e-03, 1.22878449e-02, 2.23611179e-03,\n",
       "        5.67539074e-02, 3.92353944e-02, 2.93358741e-03, 4.04835399e-03,\n",
       "        2.06205499e-04, 2.81987828e-04, 2.72712787e-04, 1.52953621e-02,\n",
       "        4.85403510e-03, 2.14397311e-02, 2.52400190e-02, 2.74434773e-04,\n",
       "        2.09305948e-03, 4.81299683e-03, 1.81544770e-03, 6.57500038e-07,\n",
       "        2.88881920e-02, 2.18422385e-03, 4.48894389e-02, 1.62957497e-02,\n",
       "        1.24572944e-02, 1.72126034e-04, 2.24518255e-04, 3.92880320e-05,\n",
       "        9.35063232e-04, 1.03906950e-03, 1.70985665e-02, 4.70433879e-04,\n",
       "        3.43440706e-03, 2.56267004e-02, 5.47266901e-02, 4.91486353e-05,\n",
       "        8.53398116e-04, 1.04364939e-03, 3.19893509e-02, 5.03974920e-03,\n",
       "        1.05462468e-03, 7.99506344e-03, 1.03019336e-02, 2.09253674e-04,\n",
       "        3.90493637e-03, 1.17977732e-03, 1.06076924e-02, 5.53371819e-07,\n",
       "        6.84922668e-07, 6.83557516e-07, 8.81406665e-03, 4.64699609e-04,\n",
       "        7.21474411e-04, 6.72756585e-07, 5.66459562e-07, 5.24358032e-03,\n",
       "        2.93954599e-05, 8.88885916e-06, 4.19033086e-06, 4.78517869e-03,\n",
       "        1.50698934e-05, 3.71652306e-03, 3.46868968e-04, 3.96526093e-06,\n",
       "        2.91614833e-06, 8.87820148e-04, 5.00869828e-06, 1.38544183e-05,\n",
       "        1.08501583e-03, 1.86382048e-03, 5.81260174e-05, 3.80560814e-05,\n",
       "        2.24878113e-05, 2.14931570e-04, 4.61361924e-06, 9.11139417e-03,\n",
       "        2.12559389e-05, 3.51561885e-03]], dtype=float32)"
      ]
     },
     "execution_count": 5,
     "metadata": {},
     "output_type": "execute_result"
    }
   ],
   "source": [
    "sentiment_model._baseline"
   ]
  },
  {
   "cell_type": "code",
   "execution_count": 11,
   "metadata": {},
   "outputs": [],
   "source": [
    "text = Input(shape=(140,))\n",
    "\n",
    "x = Embedding(input_dim=5000, output_dim=32)(text)\n",
    "x = LSTM(32, return_sequences = True)(x)\n",
    "x = LSTM(32)(x)\n",
    "x = Dropout(0.5)(x)\n",
    "\n",
    "emoji = Dense(len(emojis), activation=\"sigmoid\", name=\"emoji\")(x)\n",
    "sentiment = Dense(3, activation=\"sigmoid\", name=\"sentiment\")(x)\n",
    "\n",
    "model = Model(text, [emoji, sentiment])"
   ]
  },
  {
   "cell_type": "code",
   "execution_count": 13,
   "metadata": {},
   "outputs": [
    {
     "ename": "AttributeError",
     "evalue": "'TensorVariable' object has no attribute 'layer_input'",
     "output_type": "error",
     "traceback": [
      "\u001b[0;31m---------------------------------------------------------------------------\u001b[0m",
      "\u001b[0;31mAttributeError\u001b[0m                            Traceback (most recent call last)",
      "\u001b[0;32m<ipython-input-13-5e5b93265ccb>\u001b[0m in \u001b[0;36m<module>\u001b[0;34m()\u001b[0m\n\u001b[0;32m----> 1\u001b[0;31m \u001b[0mx1\u001b[0m\u001b[0;34m.\u001b[0m\u001b[0mlayer_input\u001b[0m\u001b[0;34m\u001b[0m\u001b[0m\n\u001b[0m",
      "\u001b[0;31mAttributeError\u001b[0m: 'TensorVariable' object has no attribute 'layer_input'"
     ]
    }
   ],
   "source": [
    "x1.layer_input"
   ]
  },
  {
   "cell_type": "code",
   "execution_count": null,
   "metadata": {},
   "outputs": [],
   "source": []
  }
 ],
 "metadata": {
  "kernelspec": {
   "display_name": "Python 2",
   "language": "python",
   "name": "python2"
  },
  "language_info": {
   "codemirror_mode": {
    "name": "ipython",
    "version": 2
   },
   "file_extension": ".py",
   "mimetype": "text/x-python",
   "name": "python",
   "nbconvert_exporter": "python",
   "pygments_lexer": "ipython2",
   "version": "2.7.13"
  }
 },
 "nbformat": 4,
 "nbformat_minor": 2
}
